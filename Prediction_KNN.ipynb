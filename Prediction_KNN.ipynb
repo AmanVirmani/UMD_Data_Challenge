{
  "nbformat": 4,
  "nbformat_minor": 0,
  "metadata": {
    "colab": {
      "name": "DC2020.ipynb",
      "provenance": []
    },
    "kernelspec": {
      "name": "python3",
      "display_name": "Python 3"
    }
  },
  "cells": [
    {
      "cell_type": "code",
      "metadata": {
        "id": "pCkLTxOnWdCA",
        "colab_type": "code",
        "outputId": "0e27df8e-bd3c-45b6-99ec-957492b4c15b",
        "colab": {
          "base_uri": "https://localhost:8080/",
          "height": 130
        }
      },
      "source": [
        "from google.colab import drive\n",
        "\n",
        "drive.mount('/content/gdrive')\n",
        "file_path = '/content/gdrive/My Drive/Level2_BAH_RecyclingDiversion/Data_Level2_BAH_RecyclingDiversion.xlsx'"
      ],
      "execution_count": 0,
      "outputs": [
        {
          "output_type": "stream",
          "text": [
            "Go to this URL in a browser: https://accounts.google.com/o/oauth2/auth?client_id=947318989803-6bn6qk8qdgf4n4g3pfee6491hc0brc4i.apps.googleusercontent.com&redirect_uri=urn%3aietf%3awg%3aoauth%3a2.0%3aoob&response_type=code&scope=email%20https%3a%2f%2fwww.googleapis.com%2fauth%2fdocs.test%20https%3a%2f%2fwww.googleapis.com%2fauth%2fdrive%20https%3a%2f%2fwww.googleapis.com%2fauth%2fdrive.photos.readonly%20https%3a%2f%2fwww.googleapis.com%2fauth%2fpeopleapi.readonly\n",
            "\n",
            "Enter your authorization code:\n",
            "··········\n",
            "Mounted at /content/gdrive\n"
          ],
          "name": "stdout"
        }
      ]
    },
    {
      "cell_type": "code",
      "metadata": {
        "id": "GAvWzxpiWn42",
        "colab_type": "code",
        "colab": {}
      },
      "source": [
        "import pandas as pd\n",
        "from datetime import datetime\n",
        "df = pd.read_excel(file_path)\n",
        "df[\"dt\"] = [datetime(FiscalYear,FiscalMonth,1) for (FiscalMonth,FiscalYear) in zip(df[\"FiscalMonth\"],df[\"FiscalYear\"])]"
      ],
      "execution_count": 0,
      "outputs": []
    },
    {
      "cell_type": "code",
      "metadata": {
        "id": "z3SLce8ZY7vq",
        "colab_type": "code",
        "outputId": "0ac77b6e-eaf2-4c9c-b068-ef14e9679c3d",
        "colab": {
          "base_uri": "https://localhost:8080/",
          "height": 206
        }
      },
      "source": [
        "df_data = df.loc[:,[\"Zone\",\"dt\",\"CaptureTotal\"]]#.groupby([\"dt\"])\n",
        "df_data.set_index(\"dt\")\n",
        "df_data.head()"
      ],
      "execution_count": 0,
      "outputs": [
        {
          "output_type": "execute_result",
          "data": {
            "text/html": [
              "<div>\n",
              "<style scoped>\n",
              "    .dataframe tbody tr th:only-of-type {\n",
              "        vertical-align: middle;\n",
              "    }\n",
              "\n",
              "    .dataframe tbody tr th {\n",
              "        vertical-align: top;\n",
              "    }\n",
              "\n",
              "    .dataframe thead th {\n",
              "        text-align: right;\n",
              "    }\n",
              "</style>\n",
              "<table border=\"1\" class=\"dataframe\">\n",
              "  <thead>\n",
              "    <tr style=\"text-align: right;\">\n",
              "      <th></th>\n",
              "      <th>Zone</th>\n",
              "      <th>dt</th>\n",
              "      <th>CaptureTotal</th>\n",
              "    </tr>\n",
              "  </thead>\n",
              "  <tbody>\n",
              "    <tr>\n",
              "      <th>0</th>\n",
              "      <td>Brooklyn North</td>\n",
              "      <td>2019-10-01</td>\n",
              "      <td>44.146764</td>\n",
              "    </tr>\n",
              "    <tr>\n",
              "      <th>1</th>\n",
              "      <td>Brooklyn North</td>\n",
              "      <td>2019-10-01</td>\n",
              "      <td>41.213700</td>\n",
              "    </tr>\n",
              "    <tr>\n",
              "      <th>2</th>\n",
              "      <td>Brooklyn North</td>\n",
              "      <td>2019-10-01</td>\n",
              "      <td>38.155937</td>\n",
              "    </tr>\n",
              "    <tr>\n",
              "      <th>3</th>\n",
              "      <td>Brooklyn North</td>\n",
              "      <td>2019-10-01</td>\n",
              "      <td>48.750755</td>\n",
              "    </tr>\n",
              "    <tr>\n",
              "      <th>4</th>\n",
              "      <td>Brooklyn North</td>\n",
              "      <td>2019-10-01</td>\n",
              "      <td>31.530129</td>\n",
              "    </tr>\n",
              "  </tbody>\n",
              "</table>\n",
              "</div>"
            ],
            "text/plain": [
              "             Zone         dt  CaptureTotal\n",
              "0  Brooklyn North 2019-10-01     44.146764\n",
              "1  Brooklyn North 2019-10-01     41.213700\n",
              "2  Brooklyn North 2019-10-01     38.155937\n",
              "3  Brooklyn North 2019-10-01     48.750755\n",
              "4  Brooklyn North 2019-10-01     31.530129"
            ]
          },
          "metadata": {
            "tags": []
          },
          "execution_count": 3
        }
      ]
    },
    {
      "cell_type": "code",
      "metadata": {
        "id": "-4M5QZJdZUbX",
        "colab_type": "code",
        "outputId": "27c914a8-6271-4f8b-ae0c-8da559819af3",
        "colab": {
          "base_uri": "https://localhost:8080/",
          "height": 206
        }
      },
      "source": [
        "data_for_np = pd.get_dummies(df_data,prefix=['Zone'])\n",
        "data_for_np.head()"
      ],
      "execution_count": 0,
      "outputs": [
        {
          "output_type": "execute_result",
          "data": {
            "text/html": [
              "<div>\n",
              "<style scoped>\n",
              "    .dataframe tbody tr th:only-of-type {\n",
              "        vertical-align: middle;\n",
              "    }\n",
              "\n",
              "    .dataframe tbody tr th {\n",
              "        vertical-align: top;\n",
              "    }\n",
              "\n",
              "    .dataframe thead th {\n",
              "        text-align: right;\n",
              "    }\n",
              "</style>\n",
              "<table border=\"1\" class=\"dataframe\">\n",
              "  <thead>\n",
              "    <tr style=\"text-align: right;\">\n",
              "      <th></th>\n",
              "      <th>dt</th>\n",
              "      <th>CaptureTotal</th>\n",
              "      <th>Zone_Bronx</th>\n",
              "      <th>Zone_Brooklyn North</th>\n",
              "      <th>Zone_Brooklyn South</th>\n",
              "      <th>Zone_Manhattan</th>\n",
              "      <th>Zone_Queens East</th>\n",
              "      <th>Zone_Queens West</th>\n",
              "      <th>Zone_Staten Island</th>\n",
              "    </tr>\n",
              "  </thead>\n",
              "  <tbody>\n",
              "    <tr>\n",
              "      <th>0</th>\n",
              "      <td>2019-10-01</td>\n",
              "      <td>44.146764</td>\n",
              "      <td>0</td>\n",
              "      <td>1</td>\n",
              "      <td>0</td>\n",
              "      <td>0</td>\n",
              "      <td>0</td>\n",
              "      <td>0</td>\n",
              "      <td>0</td>\n",
              "    </tr>\n",
              "    <tr>\n",
              "      <th>1</th>\n",
              "      <td>2019-10-01</td>\n",
              "      <td>41.213700</td>\n",
              "      <td>0</td>\n",
              "      <td>1</td>\n",
              "      <td>0</td>\n",
              "      <td>0</td>\n",
              "      <td>0</td>\n",
              "      <td>0</td>\n",
              "      <td>0</td>\n",
              "    </tr>\n",
              "    <tr>\n",
              "      <th>2</th>\n",
              "      <td>2019-10-01</td>\n",
              "      <td>38.155937</td>\n",
              "      <td>0</td>\n",
              "      <td>1</td>\n",
              "      <td>0</td>\n",
              "      <td>0</td>\n",
              "      <td>0</td>\n",
              "      <td>0</td>\n",
              "      <td>0</td>\n",
              "    </tr>\n",
              "    <tr>\n",
              "      <th>3</th>\n",
              "      <td>2019-10-01</td>\n",
              "      <td>48.750755</td>\n",
              "      <td>0</td>\n",
              "      <td>1</td>\n",
              "      <td>0</td>\n",
              "      <td>0</td>\n",
              "      <td>0</td>\n",
              "      <td>0</td>\n",
              "      <td>0</td>\n",
              "    </tr>\n",
              "    <tr>\n",
              "      <th>4</th>\n",
              "      <td>2019-10-01</td>\n",
              "      <td>31.530129</td>\n",
              "      <td>0</td>\n",
              "      <td>1</td>\n",
              "      <td>0</td>\n",
              "      <td>0</td>\n",
              "      <td>0</td>\n",
              "      <td>0</td>\n",
              "      <td>0</td>\n",
              "    </tr>\n",
              "  </tbody>\n",
              "</table>\n",
              "</div>"
            ],
            "text/plain": [
              "          dt  CaptureTotal  ...  Zone_Queens West  Zone_Staten Island\n",
              "0 2019-10-01     44.146764  ...                 0                   0\n",
              "1 2019-10-01     41.213700  ...                 0                   0\n",
              "2 2019-10-01     38.155937  ...                 0                   0\n",
              "3 2019-10-01     48.750755  ...                 0                   0\n",
              "4 2019-10-01     31.530129  ...                 0                   0\n",
              "\n",
              "[5 rows x 9 columns]"
            ]
          },
          "metadata": {
            "tags": []
          },
          "execution_count": 4
        }
      ]
    },
    {
      "cell_type": "code",
      "metadata": {
        "id": "a1LRVQuuWw13",
        "colab_type": "code",
        "colab": {}
      },
      "source": [
        "import numpy as np\n",
        "data = np.array(data_for_np)"
      ],
      "execution_count": 0,
      "outputs": []
    },
    {
      "cell_type": "code",
      "metadata": {
        "id": "GlGwjU6dXn4d",
        "colab_type": "code",
        "outputId": "348887d2-9c26-4e91-e2d9-a1c88a854184",
        "colab": {
          "base_uri": "https://localhost:8080/",
          "height": 141
        }
      },
      "source": [
        "print(data[2124:])"
      ],
      "execution_count": 0,
      "outputs": [
        {
          "output_type": "stream",
          "text": [
            "[[Timestamp('2019-01-01 00:00:00') 21.6898816044264 1 ... 0 0 0]\n",
            " [Timestamp('2019-01-01 00:00:00') 29.0587095974487 1 ... 0 0 0]\n",
            " [Timestamp('2019-01-01 00:00:00') 25.9831373795289 0 ... 0 0 0]\n",
            " ...\n",
            " [Timestamp('2019-12-01 00:00:00') 54.3270163223542 0 ... 0 0 0]\n",
            " [Timestamp('2019-12-01 00:00:00') 55.0768393837618 0 ... 0 0 0]\n",
            " [Timestamp('2019-12-01 00:00:00') 58.0993654120746 0 ... 0 0 0]]\n"
          ],
          "name": "stdout"
        }
      ]
    },
    {
      "cell_type": "code",
      "metadata": {
        "id": "rVAUKfB-dsf9",
        "colab_type": "code",
        "outputId": "ec207ab3-cef7-4016-b7b5-adea0fac87ca",
        "colab": {
          "base_uri": "https://localhost:8080/",
          "height": 36
        }
      },
      "source": [
        "str(data[0,0])=='2016-01-01 00:00:00'"
      ],
      "execution_count": 0,
      "outputs": [
        {
          "output_type": "execute_result",
          "data": {
            "text/plain": [
              "False"
            ]
          },
          "metadata": {
            "tags": []
          },
          "execution_count": 6
        }
      ]
    },
    {
      "cell_type": "code",
      "metadata": {
        "id": "F4rVfOOodjl6",
        "colab_type": "code",
        "outputId": "096ded52-a5be-41bc-963e-6c1a7a4cc971",
        "colab": {
          "base_uri": "https://localhost:8080/",
          "height": 36
        }
      },
      "source": [
        "for i,row in enumerate(data) :\n",
        "  if '2019' in str(row[0]):\n",
        "    print(i) \n",
        "    break"
      ],
      "execution_count": 0,
      "outputs": [
        {
          "output_type": "stream",
          "text": [
            "0\n"
          ],
          "name": "stdout"
        }
      ]
    },
    {
      "cell_type": "code",
      "metadata": {
        "id": "lMrgtm5lfav1",
        "colab_type": "code",
        "outputId": "86ca3fc5-06b9-4cf4-ee63-0b6b574b2c20",
        "colab": {
          "base_uri": "https://localhost:8080/",
          "height": 36
        }
      },
      "source": [
        "X_train = data[:2124]\n",
        "y_train = np.array([X_train[i][1] for i in range(len(X_train))])\n",
        "print(y_train.shape)"
      ],
      "execution_count": 0,
      "outputs": [
        {
          "output_type": "stream",
          "text": [
            "(2124,)\n"
          ],
          "name": "stdout"
        }
      ]
    },
    {
      "cell_type": "code",
      "metadata": {
        "id": "7fZe2hanhnxs",
        "colab_type": "code",
        "outputId": "09ed388b-1575-4c2c-c0b3-8c292dced098",
        "colab": {
          "base_uri": "https://localhost:8080/",
          "height": 34
        }
      },
      "source": [
        "#x_train = np.array([[X_train[i][0],X_train[i][2:]] for i in range(len(X_train))])\n",
        "#x_train = X_train[]\n",
        "print(X_train[0])"
      ],
      "execution_count": 0,
      "outputs": [
        {
          "output_type": "stream",
          "text": [
            "[Timestamp('2016-01-01 00:00:00') 19.0231517785822 1 0 0 0 0 0 0]\n"
          ],
          "name": "stdout"
        }
      ]
    },
    {
      "cell_type": "code",
      "metadata": {
        "id": "vIDKPisiekJI",
        "colab_type": "code",
        "colab": {}
      },
      "source": [
        "import math\n",
        "\n",
        "def KNN(query,X_train,Y_train,neighbours = 5):\n",
        "  dist = []\n",
        "  for i,row in enumerate(X_train):\n",
        "    values = []\n",
        "    #print('data value of row :{}'.format(i))\n",
        "    for j in range(len(row)):\n",
        "      if j==0:\n",
        "        days = int(str(query[0]-row[0]).split(' ')[0])/1430\n",
        "        values.append(days)\n",
        "        continue\n",
        "      elif j == 1:\n",
        "        continue\n",
        "      else :\n",
        "        value = query[j] - row[j]\n",
        "        values.append(value)\n",
        "    dist.append(np.append(X_train[i], np.linalg.norm(values))) \n",
        "  dist = np.array(dist)  \n",
        "  dist_sort = dist[np.argsort(dist[:,-1])[::-1]]\n",
        "  #print(dist)\n",
        "  output = np.mean(dist_sort[:neighbours,1])\n",
        "  #print(output)\n",
        "  return output\n",
        "\n",
        "# print(X_train[0:6])\n",
        "# out = KNN(X_train[-1],X_train[0:6],y_train[0])\n",
        "# print(out)"
      ],
      "execution_count": 0,
      "outputs": []
    },
    {
      "cell_type": "code",
      "metadata": {
        "id": "XkkTwiQU9s0K",
        "colab_type": "code",
        "colab": {}
      },
      "source": [
        "y_pred_n1 =  [KNN(x_test[i],X_train,y_train,1) for i in range(len(x_test))]"
      ],
      "execution_count": 0,
      "outputs": []
    },
    {
      "cell_type": "code",
      "metadata": {
        "id": "BUJO5LpTysrn",
        "colab_type": "code",
        "outputId": "83c4429d-17eb-4ba9-9a30-65b8f51d9d4f",
        "colab": {
          "base_uri": "https://localhost:8080/",
          "height": 56
        }
      },
      "source": [
        "x_test = data[2124:]\n",
        "y_test = x_test[:,1]\n",
        "\n",
        "y_pred =  [KNN(x_test[i],X_train,y_train) for i in range(len(x_test))]\n",
        "print(y_pred)"
      ],
      "execution_count": 0,
      "outputs": [
        {
          "output_type": "stream",
          "text": [
            "[52.68539947651025, 52.68539947651025, 52.68539947651025, 52.68539947651025, 52.68539947651025, 52.68539947651025, 52.68539947651025, 52.68539947651025, 52.68539947651025, 52.34089449385323, 52.34089449385323, 52.34089449385323, 52.34089449385323, 52.34089449385323, 52.34089449385323, 52.34089449385323, 52.34089449385323, 52.34089449385323, 48.042530044353555, 48.042530044353555, 48.042530044353555, 48.042530044353555, 48.042530044353555, 48.042530044353555, 48.042530044353555, 48.042530044353555, 48.042530044353555, 48.042530044353555, 48.042530044353555, 48.042530044353555, 46.16422215507304, 46.16422215507304, 46.16422215507304, 46.16422215507304, 46.16422215507304, 46.16422215507304, 46.16422215507304, 46.16422215507304, 46.16422215507304, 46.16422215507304, 46.16422215507304, 46.16422215507304, 52.499636537217654, 52.499636537217654, 52.499636537217654, 52.499636537217654, 52.499636537217654, 52.499636537217654, 52.499636537217654, 52.499636537217654, 52.499636537217654, 52.499636537217654, 52.499636537217654, 52.499636537217654, 52.499636537217654, 52.499636537217654, 50.09494327878852, 50.09494327878852, 50.09494327878852, 52.68539947651025, 52.68539947651025, 52.68539947651025, 52.68539947651025, 52.68539947651025, 52.68539947651025, 52.68539947651025, 52.68539947651025, 52.68539947651025, 52.34089449385323, 52.34089449385323, 52.34089449385323, 52.34089449385323, 52.34089449385323, 52.34089449385323, 52.34089449385323, 52.34089449385323, 52.34089449385323, 48.042530044353555, 48.042530044353555, 48.042530044353555, 48.042530044353555, 48.042530044353555, 48.042530044353555, 48.042530044353555, 48.042530044353555, 48.042530044353555, 48.042530044353555, 48.042530044353555, 48.042530044353555, 46.16422215507304, 46.16422215507304, 46.16422215507304, 46.16422215507304, 46.16422215507304, 46.16422215507304, 46.16422215507304, 46.16422215507304, 46.16422215507304, 46.16422215507304, 46.16422215507304, 46.16422215507304, 52.499636537217654, 52.499636537217654, 52.499636537217654, 52.499636537217654, 52.499636537217654, 52.499636537217654, 52.499636537217654, 52.499636537217654, 52.499636537217654, 52.499636537217654, 52.499636537217654, 52.499636537217654, 52.499636537217654, 52.499636537217654, 50.09494327878852, 50.09494327878852, 50.09494327878852, 52.68539947651025, 52.68539947651025, 52.68539947651025, 52.68539947651025, 52.68539947651025, 52.68539947651025, 52.68539947651025, 52.68539947651025, 52.68539947651025, 52.34089449385323, 52.34089449385323, 52.34089449385323, 52.34089449385323, 52.34089449385323, 52.34089449385323, 52.34089449385323, 52.34089449385323, 52.34089449385323, 48.042530044353555, 48.042530044353555, 48.042530044353555, 48.042530044353555, 48.042530044353555, 48.042530044353555, 48.042530044353555, 48.042530044353555, 48.042530044353555, 48.042530044353555, 48.042530044353555, 48.042530044353555, 46.16422215507304, 46.16422215507304, 46.16422215507304, 46.16422215507304, 46.16422215507304, 46.16422215507304, 46.16422215507304, 46.16422215507304, 46.16422215507304, 46.16422215507304, 46.16422215507304, 46.16422215507304, 52.499636537217654, 52.499636537217654, 52.499636537217654, 52.499636537217654, 52.499636537217654, 52.499636537217654, 52.499636537217654, 52.499636537217654, 52.499636537217654, 52.499636537217654, 52.499636537217654, 52.499636537217654, 52.499636537217654, 52.499636537217654, 50.09494327878852, 50.09494327878852, 50.09494327878852, 52.68539947651025, 52.68539947651025, 52.68539947651025, 52.68539947651025, 52.68539947651025, 52.68539947651025, 52.68539947651025, 52.68539947651025, 52.68539947651025, 52.34089449385323, 52.34089449385323, 52.34089449385323, 52.34089449385323, 52.34089449385323, 52.34089449385323, 52.34089449385323, 52.34089449385323, 52.34089449385323, 48.042530044353555, 48.042530044353555, 48.042530044353555, 48.042530044353555, 48.042530044353555, 48.042530044353555, 48.042530044353555, 48.042530044353555, 48.042530044353555, 48.042530044353555, 48.042530044353555, 48.042530044353555, 46.16422215507304, 46.16422215507304, 46.16422215507304, 46.16422215507304, 46.16422215507304, 46.16422215507304, 46.16422215507304, 46.16422215507304, 46.16422215507304, 46.16422215507304, 46.16422215507304, 46.16422215507304, 52.499636537217654, 52.499636537217654, 52.499636537217654, 52.499636537217654, 52.499636537217654, 52.499636537217654, 52.499636537217654, 52.499636537217654, 52.499636537217654, 52.499636537217654, 52.499636537217654, 52.499636537217654, 52.499636537217654, 52.499636537217654, 50.09494327878852, 50.09494327878852, 50.09494327878852, 52.68539947651025, 52.68539947651025, 52.68539947651025, 52.68539947651025, 52.68539947651025, 52.68539947651025, 52.68539947651025, 52.68539947651025, 52.68539947651025, 52.34089449385323, 52.34089449385323, 52.34089449385323, 52.34089449385323, 52.34089449385323, 52.34089449385323, 52.34089449385323, 52.34089449385323, 52.34089449385323, 48.042530044353555, 48.042530044353555, 48.042530044353555, 48.042530044353555, 48.042530044353555, 48.042530044353555, 48.042530044353555, 48.042530044353555, 48.042530044353555, 48.042530044353555, 48.042530044353555, 48.042530044353555, 46.16422215507304, 46.16422215507304, 46.16422215507304, 46.16422215507304, 46.16422215507304, 46.16422215507304, 46.16422215507304, 46.16422215507304, 46.16422215507304, 46.16422215507304, 46.16422215507304, 46.16422215507304, 52.499636537217654, 52.499636537217654, 52.499636537217654, 52.499636537217654, 52.499636537217654, 52.499636537217654, 52.499636537217654, 52.499636537217654, 52.499636537217654, 52.499636537217654, 52.499636537217654, 52.499636537217654, 52.499636537217654, 52.499636537217654, 50.09494327878852, 50.09494327878852, 50.09494327878852, 52.68539947651025, 52.68539947651025, 52.68539947651025, 52.68539947651025, 52.68539947651025, 52.68539947651025, 52.68539947651025, 52.68539947651025, 52.68539947651025, 52.34089449385323, 52.34089449385323, 52.34089449385323, 52.34089449385323, 52.34089449385323, 52.34089449385323, 52.34089449385323, 52.34089449385323, 52.34089449385323, 48.042530044353555, 48.042530044353555, 48.042530044353555, 48.042530044353555, 48.042530044353555, 48.042530044353555, 48.042530044353555, 48.042530044353555, 48.042530044353555, 48.042530044353555, 48.042530044353555, 48.042530044353555, 46.16422215507304, 46.16422215507304, 46.16422215507304, 46.16422215507304, 46.16422215507304, 46.16422215507304, 46.16422215507304, 46.16422215507304, 46.16422215507304, 46.16422215507304, 46.16422215507304, 46.16422215507304, 52.499636537217654, 52.499636537217654, 52.499636537217654, 52.499636537217654, 52.499636537217654, 52.499636537217654, 52.499636537217654, 52.499636537217654, 52.499636537217654, 52.499636537217654, 52.499636537217654, 52.499636537217654, 52.499636537217654, 52.499636537217654, 50.09494327878852, 50.09494327878852, 50.09494327878852, 52.68539947651025, 52.68539947651025, 52.68539947651025, 52.68539947651025, 52.68539947651025, 52.68539947651025, 52.68539947651025, 52.68539947651025, 52.68539947651025, 52.34089449385323, 52.34089449385323, 52.34089449385323, 52.34089449385323, 52.34089449385323, 52.34089449385323, 52.34089449385323, 52.34089449385323, 52.34089449385323, 48.042530044353555, 48.042530044353555, 48.042530044353555, 48.042530044353555, 48.042530044353555, 48.042530044353555, 48.042530044353555, 48.042530044353555, 48.042530044353555, 48.042530044353555, 48.042530044353555, 48.042530044353555, 46.16422215507304, 46.16422215507304, 46.16422215507304, 46.16422215507304, 46.16422215507304, 46.16422215507304, 46.16422215507304, 46.16422215507304, 46.16422215507304, 46.16422215507304, 46.16422215507304, 46.16422215507304, 52.499636537217654, 52.499636537217654, 52.499636537217654, 52.499636537217654, 52.499636537217654, 52.499636537217654, 52.499636537217654, 52.499636537217654, 52.499636537217654, 52.499636537217654, 52.499636537217654, 52.499636537217654, 52.499636537217654, 52.499636537217654, 50.09494327878852, 50.09494327878852, 50.09494327878852, 52.68539947651025, 52.68539947651025, 52.68539947651025, 52.68539947651025, 52.68539947651025, 52.68539947651025, 52.68539947651025, 52.68539947651025, 52.68539947651025, 52.34089449385323, 52.34089449385323, 52.34089449385323, 52.34089449385323, 52.34089449385323, 52.34089449385323, 52.34089449385323, 52.34089449385323, 52.34089449385323, 48.042530044353555, 48.042530044353555, 48.042530044353555, 48.042530044353555, 48.042530044353555, 48.042530044353555, 48.042530044353555, 48.042530044353555, 48.042530044353555, 48.042530044353555, 48.042530044353555, 48.042530044353555, 46.16422215507304, 46.16422215507304, 46.16422215507304, 46.16422215507304, 46.16422215507304, 46.16422215507304, 46.16422215507304, 46.16422215507304, 46.16422215507304, 46.16422215507304, 46.16422215507304, 46.16422215507304, 52.499636537217654, 52.499636537217654, 52.499636537217654, 52.499636537217654, 52.499636537217654, 52.499636537217654, 52.499636537217654, 52.499636537217654, 52.499636537217654, 52.499636537217654, 52.499636537217654, 52.499636537217654, 52.499636537217654, 52.499636537217654, 50.09494327878852, 50.09494327878852, 50.09494327878852, 52.68539947651025, 52.68539947651025, 52.68539947651025, 52.68539947651025, 52.68539947651025, 52.68539947651025, 52.68539947651025, 52.68539947651025, 52.68539947651025, 52.34089449385323, 52.34089449385323, 52.34089449385323, 52.34089449385323, 52.34089449385323, 52.34089449385323, 52.34089449385323, 52.34089449385323, 52.34089449385323, 48.042530044353555, 48.042530044353555, 48.042530044353555, 48.042530044353555, 48.042530044353555, 48.042530044353555, 48.042530044353555, 48.042530044353555, 48.042530044353555, 48.042530044353555, 48.042530044353555, 48.042530044353555, 46.16422215507304, 46.16422215507304, 46.16422215507304, 46.16422215507304, 46.16422215507304, 46.16422215507304, 46.16422215507304, 46.16422215507304, 46.16422215507304, 46.16422215507304, 46.16422215507304, 46.16422215507304, 52.499636537217654, 52.499636537217654, 52.499636537217654, 52.499636537217654, 52.499636537217654, 52.499636537217654, 52.499636537217654, 52.499636537217654, 52.499636537217654, 52.499636537217654, 52.499636537217654, 52.499636537217654, 52.499636537217654, 52.499636537217654, 50.09494327878852, 50.09494327878852, 50.09494327878852, 52.68539947651025, 52.68539947651025, 52.68539947651025, 52.68539947651025, 52.68539947651025, 52.68539947651025, 52.68539947651025, 52.68539947651025, 52.68539947651025, 52.34089449385323, 52.34089449385323, 52.34089449385323, 52.34089449385323, 52.34089449385323, 52.34089449385323, 52.34089449385323, 52.34089449385323, 52.34089449385323, 48.042530044353555, 48.042530044353555, 48.042530044353555, 48.042530044353555, 48.042530044353555, 48.042530044353555, 48.042530044353555, 48.042530044353555, 48.042530044353555, 48.042530044353555, 48.042530044353555, 48.042530044353555, 46.16422215507304, 46.16422215507304, 46.16422215507304, 46.16422215507304, 46.16422215507304, 46.16422215507304, 46.16422215507304, 46.16422215507304, 46.16422215507304, 46.16422215507304, 46.16422215507304, 46.16422215507304, 52.499636537217654, 52.499636537217654, 52.499636537217654, 52.499636537217654, 52.499636537217654, 52.499636537217654, 52.499636537217654, 52.499636537217654, 52.499636537217654, 52.499636537217654, 52.499636537217654, 52.499636537217654, 52.499636537217654, 52.499636537217654, 50.09494327878852, 50.09494327878852, 50.09494327878852, 52.68539947651025, 52.68539947651025, 52.68539947651025, 52.68539947651025, 52.68539947651025, 52.68539947651025, 52.68539947651025, 52.68539947651025, 52.68539947651025, 52.34089449385323, 52.34089449385323, 52.34089449385323, 52.34089449385323, 52.34089449385323, 52.34089449385323, 52.34089449385323, 52.34089449385323, 52.34089449385323, 48.042530044353555, 48.042530044353555, 48.042530044353555, 48.042530044353555, 48.042530044353555, 48.042530044353555, 48.042530044353555, 48.042530044353555, 48.042530044353555, 48.042530044353555, 48.042530044353555, 48.042530044353555, 46.16422215507304, 46.16422215507304, 46.16422215507304, 46.16422215507304, 46.16422215507304, 46.16422215507304, 46.16422215507304, 46.16422215507304, 46.16422215507304, 46.16422215507304, 46.16422215507304, 46.16422215507304, 52.499636537217654, 52.499636537217654, 52.499636537217654, 52.499636537217654, 52.499636537217654, 52.499636537217654, 52.499636537217654, 52.499636537217654, 52.499636537217654, 52.499636537217654, 52.499636537217654, 52.499636537217654, 52.499636537217654, 52.499636537217654, 50.09494327878852, 50.09494327878852, 50.09494327878852, 52.68539947651025, 52.68539947651025, 52.68539947651025, 52.68539947651025, 52.68539947651025, 52.68539947651025, 52.68539947651025, 52.68539947651025, 52.68539947651025, 52.34089449385323, 52.34089449385323, 52.34089449385323, 52.34089449385323, 52.34089449385323, 52.34089449385323, 52.34089449385323, 52.34089449385323, 52.34089449385323, 48.042530044353555, 48.042530044353555, 48.042530044353555, 48.042530044353555, 48.042530044353555, 48.042530044353555, 48.042530044353555, 48.042530044353555, 48.042530044353555, 48.042530044353555, 48.042530044353555, 48.042530044353555, 46.16422215507304, 46.16422215507304, 46.16422215507304, 46.16422215507304, 46.16422215507304, 46.16422215507304, 46.16422215507304, 46.16422215507304, 46.16422215507304, 46.16422215507304, 46.16422215507304, 46.16422215507304, 52.499636537217654, 52.499636537217654, 52.499636537217654, 52.499636537217654, 52.499636537217654, 52.499636537217654, 52.499636537217654, 52.499636537217654, 52.499636537217654, 52.499636537217654, 52.499636537217654, 52.499636537217654, 52.499636537217654, 52.499636537217654, 50.09494327878852, 50.09494327878852, 50.09494327878852]\n"
          ],
          "name": "stdout"
        }
      ]
    },
    {
      "cell_type": "code",
      "metadata": {
        "id": "931k9w0j-de-",
        "colab_type": "code",
        "outputId": "a49d1371-b5d4-4bdc-f33c-4e6a3803cf81",
        "colab": {
          "base_uri": "https://localhost:8080/",
          "height": 54
        }
      },
      "source": [
        "y_pred = np.array(y_pred)\n",
        "y_test = x_test[:,1]\n",
        "print(y_pred.shape)\n",
        "print(y_test.shape)"
      ],
      "execution_count": 0,
      "outputs": [
        {
          "output_type": "stream",
          "text": [
            "(708,)\n",
            "(708,)\n"
          ],
          "name": "stdout"
        }
      ]
    },
    {
      "cell_type": "code",
      "metadata": {
        "id": "eXKur2nf9_TN",
        "colab_type": "code",
        "outputId": "68c927e6-6149-430c-9621-7f95ff86a8ab",
        "colab": {
          "base_uri": "https://localhost:8080/",
          "height": 893
        }
      },
      "source": [
        "import matplotlib.pyplot as plt\n",
        "x = np.arange(len(y_pred))\n",
        "plt.figure(figsize= (15,15))\n",
        "plt.plot(x,y_test,'bo',label = 'Y_test')\n",
        "plt.plot(x,y_pred,'ro',label = 'y_pred')\n",
        "plt.legend(('y_test','y_pred'))\n",
        "plt.xlabel('No. of Samples')\n",
        "plt.ylabel('Capture Total')\n",
        "plt.title('Prediction using KNN')\n",
        "plt.show()"
      ],
      "execution_count": 21,
      "outputs": [
        {
          "output_type": "display_data",
          "data": {
            "image/png": "[encoded data removed]",
            "text/plain": [
              "<Figure size 1080x1080 with 1 Axes>"
            ]
          },
          "metadata": {
            "tags": []
          }
        }
      ]
    },
    {
      "cell_type": "code",
      "metadata": {
        "id": "3P7oT_WpgHW9",
        "colab_type": "code",
        "outputId": "403ab104-add3-44ba-9f93-c9bf2d8b65fe",
        "colab": {
          "base_uri": "https://localhost:8080/",
          "height": 54
        }
      },
      "source": [
        "Accuracy = (y_test == y_pred)\n",
        "count = 0\n",
        "for t in range(len(Accuracy)):\n",
        "  if Accuracy[i]:\n",
        "    count += 1\n",
        "\n",
        "final_accuracy = count/len(Accuracy)\n",
        "print(count)\n",
        "print(final_accuracy)"
      ],
      "execution_count": 0,
      "outputs": [
        {
          "output_type": "stream",
          "text": [
            "0\n",
            "0.0\n"
          ],
          "name": "stdout"
        }
      ]
    },
    {
      "cell_type": "code",
      "metadata": {
        "id": "r2sU2KiGiaCg",
        "colab_type": "code",
        "outputId": "fa68aa56-d8da-4f75-8d1c-aed06dbea4d3",
        "colab": {
          "base_uri": "https://localhost:8080/",
          "height": 36
        }
      },
      "source": [
        "import sklearn.metrics\n",
        "\n",
        "sklearn.metrics.mean_squared_error(y_test, y_pred, sample_weight=None, multioutput='uniform_average', squared=True)"
      ],
      "execution_count": 0,
      "outputs": [
        {
          "output_type": "execute_result",
          "data": {
            "text/plain": [
              "123.29775269009595"
            ]
          },
          "metadata": {
            "tags": []
          },
          "execution_count": 19
        }
      ]
    }
  ]
}